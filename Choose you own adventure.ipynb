{
 "cells": [
  {
   "cell_type": "code",
   "execution_count": 1,
   "id": "2636d94c",
   "metadata": {
    "scrolled": true
   },
   "outputs": [
    {
     "name": "stdout",
     "output_type": "stream",
     "text": [
      "Welcome to the World of Denair. You have entered a world of magic and mystery where you will go on an adventure. Prepare \n",
      "yourself, as we are about to begin. Are you ready? yes\n",
      "Here we go.\n",
      "You start out inside of a dark building, and you have no idea where you are, and no memories of your past. From what you can see, there is a bed, table, a small grate in the wall, and two strange looking bottles set on top of a note. Do you wish to read the note, or inspect the grate? note\n",
      "You have chosen to read the note. You walk over and move the bottles off of it, and then pick it up to read it. 'In order to escape, you must figure out which bottle is useless, and which will allow you to survive the poisonous gas. Once you think \n",
      "you are correct, you must drink the one you have chosen'. Suddenly, you hear a hissing noise coming from the grate, you look over and see gas pouring out of it. You look at the two bottles and see that one has a thick, black liquid in it, and the \n",
      "other has a shimmery, silver liquid.\n",
      "You now must choose between the two bottles. Which one will you choose? The silver, or the black? black\n",
      "You pull the stopper out of the bottle, and down it in one gulp. You suddenly pass out, but you don't die. You have passed \n",
      "the first test.\n",
      "You have successfully passed the first test. You now wake up in what appears to be a palace. You look around and you see \n",
      "that there are two doors in front of you. Do you go through the right or the left? left\n",
      "You walk towards the door and see a long corridor in front of you. You continue walking and see a new room, that appears to be ready for a feast. Do you enter? Choose yes or no. yes\n",
      "You walk towards the room and when you open the door, you suddenly hear clapping and cheering. It turns out that you have \n",
      "succesfully passed the test of becoming a spy for his majesty. Your eyes widden as you suddenly realize what had happen, and your memory returns to you. Congragulations! You have won the game!\n"
     ]
    }
   ],
   "source": [
    "Story=input(\"\"\"Welcome to the World of Denair. You have entered a world of magic and mystery where you will go on an adventure. Prepare \n",
    "yourself, as we are about to begin. Are you ready? \"\"\")\n",
    "if Story==\"yes\":\n",
    "    print(\"Here we go.\")\n",
    "if Story==\"no\":\n",
    "    print(\"You have failed. Try again?\")\n",
    "\n",
    "Introduction=input(\"\"\"You start out inside of a dark building, and you have no idea where you are, and no memories of your past. From what you can see, there is a bed, table, a small grate in the wall, and two strange looking bottles set on top of a note. Do you wish to read the note, or inspect the grate? \"\"\")\n",
    "if Introduction==\"note\":\n",
    "    print(\"\"\"You have chosen to read the note. You walk over and move the bottles off of it, and then pick it up to read it. 'In order to escape, you must figure out which bottle is useless, and which will allow you to survive the poisonous gas. Once you think \n",
    "you are correct, you must drink the one you have chosen'. Suddenly, you hear a hissing noise coming from the grate, you look over and see gas pouring out of it. You look at the two bottles and see that one has a thick, black liquid in it, and the \n",
    "other has a shimmery, silver liquid.\"\"\")\n",
    "if Introduction==\"grate\":\n",
    "    print(\"\"\"You walk over to the grate, and as you crouch down to take a closer look at it, a strange looking gas starts to pour out of it, and as you accidentally inhale it, you begin to fall unconcious. While you are unconcious, you breathe in more gas, \n",
    "causing you to die. You have failed. Try again?\"\"\")\n",
    "\n",
    "Part2=input(\"\"\"You now must choose between the two bottles. Which one will you choose? The silver, or the black? \"\"\")\n",
    "if Part2==\"black\":\n",
    "    print(\"\"\"You pull the stopper out of the bottle, and down it in one gulp. You suddenly pass out, but you don't die. You have passed \n",
    "the first test.\"\"\")\n",
    "if Part2==\"silver\":\n",
    "    print(\"\"\"You swirl the liquid around, and then uncork the bottle. You drink it all, and realize that it tastes like your favorite \n",
    "sweet. You look over to the grate, and watch as more gas spreads into the room. Seconds later, you inhale it and die. You \n",
    "have failed. Try again?\"\"\")\n",
    "    \n",
    "Part3=input(\"\"\"You have successfully passed the first test. You now wake up in what appears to be a palace. You look around and you see \n",
    "that there are two doors in front of you. Do you go through the right or the left? \"\"\")\n",
    "if Part3==\"left\":\n",
    "    Part4=input(\"\"\"You walk towards the door and see a long corridor in front of you. You continue walking and see a new room, that appears to be ready for a feast. Do you enter? Choose yes or no. \"\"\")\n",
    "    if Part4==\"yes\":\n",
    "        print(\"\"\"You walk towards the room and when you open the door, you suddenly hear clapping and cheering. It turns out that you have \n",
    "succesfully passed the test of becoming a spy for his majesty. Your eyes widden as you suddenly realize what had happen, and your memory returns to you. Congragulations! You have won the game!\"\"\")\n",
    "    if Part4==\"no\":\n",
    "        print(\"\"\"You continue walking, and reach a dead end. You look for a way to continue forwards, but fall down a trap door, and cannot \n",
    "escape. You have failed. Try again?\"\"\")\n",
    "if Part3==\"right\":\n",
    "    print(\"\"\"You walk towards the door, and when you open it, you see an armory. As you walk forward, you hear a sudden noise, and when\n",
    "you turn around to look, and there is a knife hurling straight towards you. It pierces you in the heart and you die. You \n",
    "have failed. Try again?\"\"\")"
   ]
  },
  {
   "cell_type": "code",
   "execution_count": null,
   "id": "f4359a2c",
   "metadata": {},
   "outputs": [],
   "source": []
  },
  {
   "cell_type": "code",
   "execution_count": null,
   "id": "897eeada",
   "metadata": {},
   "outputs": [],
   "source": []
  },
  {
   "cell_type": "code",
   "execution_count": null,
   "id": "9daaba75",
   "metadata": {},
   "outputs": [],
   "source": []
  },
  {
   "cell_type": "code",
   "execution_count": null,
   "id": "f6457a86",
   "metadata": {},
   "outputs": [],
   "source": []
  },
  {
   "cell_type": "code",
   "execution_count": null,
   "id": "03a13aa2",
   "metadata": {},
   "outputs": [],
   "source": []
  }
 ],
 "metadata": {
  "kernelspec": {
   "display_name": "Python 3 (ipykernel)",
   "language": "python",
   "name": "python3"
  },
  "language_info": {
   "codemirror_mode": {
    "name": "ipython",
    "version": 3
   },
   "file_extension": ".py",
   "mimetype": "text/x-python",
   "name": "python",
   "nbconvert_exporter": "python",
   "pygments_lexer": "ipython3",
   "version": "3.9.5"
  }
 },
 "nbformat": 4,
 "nbformat_minor": 5
}
