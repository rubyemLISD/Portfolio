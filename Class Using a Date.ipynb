{
 "cells": [
  {
   "cell_type": "code",
   "execution_count": 1,
   "id": "e0e95e6e",
   "metadata": {},
   "outputs": [],
   "source": [
    "from datetime import datetime"
   ]
  },
  {
   "cell_type": "code",
   "execution_count": 2,
   "id": "8aeb7962",
   "metadata": {},
   "outputs": [],
   "source": [
    "class Assignment():\n",
    "    \n",
    "    \"\"\"Here is a Class for an assignment. The name of the assignment, due date, a small description, and requirements of the\n",
    "    assignment (in a list) are required.\"\"\"\n",
    "    \n",
    "    def __init__(self, name, due_date, description, total_points):\n",
    "        self.name=name\n",
    "        self.due_date=due_date\n",
    "        self.description=description\n",
    "        self.total_points=total_points\n",
    "        \n",
    "    def time_left(self):\n",
    "        time=(self.due_date - datetime.now())\n",
    "        return \"You have {} until '{}' is due.\".format(time, self.name)\n",
    "    \n",
    "    def twelve_hour_time_due_date(self):\n",
    "        print(\"Your assignment is due at \" \n",
    "              + self.due_date.strftime(\"%A, %B %d, %Y at %I:%M %p\") \n",
    "              + \".\")\n",
    "    \n",
    "    def check_off_requirements(self, requirements):\n",
    "        self.requirements=requirements\n",
    "        r=len(requirements)\n",
    "        for i in range(r):\n",
    "            yes_no=input(\"Is requirement '\" \n",
    "                         +  requirements[i]\n",
    "                         + \"' complete? Please type y for yes, and n for no. \")\n",
    "            if yes_no=='y':\n",
    "                requirements[i]='done'\n",
    "            elif yes_no=='n':\n",
    "                requirements[i]=requirements[i]\n",
    "            if i>3:\n",
    "                break\n",
    "        for i in range(r):\n",
    "            if requirements[i]!='done':\n",
    "                print(\"You are missing requirement '\" \n",
    "                      + requirements[i] \n",
    "                      + \"'.\")\n",
    "        \n",
    "    def percent_score(self, points_earned):\n",
    "        percent=(points_earned/self.total_points)*100\n",
    "        self.percent=percent\n",
    "        if percent>=90:\n",
    "            print(\"You got '{}' which is an A.\".format(percent))\n",
    "        elif percent<90 and percent>=80:\n",
    "            print(\"You got '{}' which is a B.\".format(percent))\n",
    "        elif percent<80 and percent>=70:\n",
    "            print(\"You got '{}' which is a C.\".format(percent))\n",
    "        elif percent<70 and percent>=60:\n",
    "            print(\"You got '{}' which is a D.\".format(percent))\n",
    "        elif percent<60:\n",
    "            print(\"You got '{}' which is an F.\".format(percent))"
   ]
  },
  {
   "cell_type": "code",
   "execution_count": 3,
   "id": "8b2d1d97",
   "metadata": {},
   "outputs": [],
   "source": [
    "a=Assignment('Class using a datetime', datetime(2022, 2, 10, 16, 20, 0), 'Make a Class that is not a direct copy of Cat, and involve datetime in some way', 15)"
   ]
  },
  {
   "cell_type": "code",
   "execution_count": 4,
   "id": "54982520",
   "metadata": {},
   "outputs": [
    {
     "data": {
      "text/plain": [
       "\"You have 2:12:18.072082 until 'Class using a datetime' is due.\""
      ]
     },
     "execution_count": 4,
     "metadata": {},
     "output_type": "execute_result"
    }
   ],
   "source": [
    "a.time_left()"
   ]
  },
  {
   "cell_type": "code",
   "execution_count": 5,
   "id": "aa496448",
   "metadata": {},
   "outputs": [
    {
     "name": "stdout",
     "output_type": "stream",
     "text": [
      "Your assignment is due at Thursday, February 10, 2022 at 04:20 PM.\n"
     ]
    }
   ],
   "source": [
    "a.twelve_hour_time_due_date()"
   ]
  },
  {
   "cell_type": "code",
   "execution_count": null,
   "id": "8e93a049",
   "metadata": {
    "scrolled": true
   },
   "outputs": [],
   "source": [
    "a.check_off_requirements(['uses a datetime', 'uses the __init__ method', 'high quality methods that make sense as a \"verb\" that the class (being the \"noun\") can do', 'functional in a real world way'])"
   ]
  },
  {
   "cell_type": "code",
   "execution_count": null,
   "id": "c333a0fc",
   "metadata": {},
   "outputs": [],
   "source": [
    "a.percent_score(14)"
   ]
  },
  {
   "cell_type": "code",
   "execution_count": null,
   "id": "e21348e2",
   "metadata": {},
   "outputs": [],
   "source": []
  }
 ],
 "metadata": {
  "kernelspec": {
   "display_name": "Python 3 (ipykernel)",
   "language": "python",
   "name": "python3"
  },
  "language_info": {
   "codemirror_mode": {
    "name": "ipython",
    "version": 3
   },
   "file_extension": ".py",
   "mimetype": "text/x-python",
   "name": "python",
   "nbconvert_exporter": "python",
   "pygments_lexer": "ipython3",
   "version": "3.9.5"
  }
 },
 "nbformat": 4,
 "nbformat_minor": 5
}
