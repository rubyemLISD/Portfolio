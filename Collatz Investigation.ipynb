{
 "cells": [
  {
   "cell_type": "code",
   "execution_count": 1,
   "id": "b5d5a3eb",
   "metadata": {},
   "outputs": [],
   "source": [
    "def take_number_input():\n",
    "    number=input('Type a number ')\n",
    "    return int(number)\n",
    "\n",
    "def even(n):\n",
    "    remainder=n%2\n",
    "    if remainder==1:\n",
    "        return False\n",
    "    else:\n",
    "        return True"
   ]
  },
  {
   "cell_type": "code",
   "execution_count": 2,
   "id": "49ff83c2",
   "metadata": {},
   "outputs": [
    {
     "name": "stdout",
     "output_type": "stream",
     "text": [
      "Type a number 5\n",
      "16\n",
      "8.0\n",
      "4.0\n",
      "2.0\n",
      "1.0\n"
     ]
    }
   ],
   "source": [
    "t=take_number_input()\n",
    "\n",
    "while True:\n",
    "    if t==1:\n",
    "        break\n",
    "    if even(t):\n",
    "        print(t/2)\n",
    "        t=t/2\n",
    "    else:\n",
    "        print(t*3+1)\n",
    "        t=t*3+1"
   ]
  },
  {
   "cell_type": "code",
   "execution_count": 3,
   "id": "82cd0224",
   "metadata": {},
   "outputs": [],
   "source": [
    "def collatz_path(start):\n",
    "    while True:\n",
    "        if start==1:\n",
    "            break\n",
    "        if even(start):\n",
    "            print(start/2)\n",
    "            start=start/2\n",
    "        else:\n",
    "            print(start*3+1)\n",
    "            start=start*3+1"
   ]
  },
  {
   "cell_type": "code",
   "execution_count": 4,
   "id": "01d0782a",
   "metadata": {
    "scrolled": true
   },
   "outputs": [
    {
     "name": "stdout",
     "output_type": "stream",
     "text": [
      "16\n",
      "8.0\n",
      "4.0\n",
      "2.0\n",
      "1.0\n"
     ]
    }
   ],
   "source": [
    "collatz_path(5)"
   ]
  },
  {
   "cell_type": "code",
   "execution_count": 5,
   "id": "5d6c64f4",
   "metadata": {},
   "outputs": [],
   "source": [
    "def collatz_count(begin):\n",
    "    count=0\n",
    "    while True:\n",
    "        if begin==1:\n",
    "            count=count+1\n",
    "            return count\n",
    "        if even(begin):\n",
    "            count=count+1\n",
    "            begin=begin/2\n",
    "        else:\n",
    "            count=count+1\n",
    "            begin=begin*3+1\n",
    "        if count==1000000:\n",
    "            break"
   ]
  },
  {
   "cell_type": "code",
   "execution_count": 6,
   "id": "ec8015cb",
   "metadata": {},
   "outputs": [
    {
     "data": {
      "text/plain": [
       "7"
      ]
     },
     "execution_count": 6,
     "metadata": {},
     "output_type": "execute_result"
    }
   ],
   "source": [
    "collatz_count(10)"
   ]
  },
  {
   "cell_type": "markdown",
   "id": "c00d27a9",
   "metadata": {},
   "source": [
    "Task 2 - Investigative question:\n",
    "3. Are there any patterns relating the starting number and the output of collatz_count?\n",
    "Yes there are. The larger the input is, the larger the output is because it takes more steps to get to 1. For example, if the starting number was 5, it takes 6 steps, if it's 6, it takes 9, if it's 3, it takes 8, if it's 900, it takes 55. As you can see, this is a continuos pattern that is true with all the numbers that I have tested. It is possible for there to be numbers that don't follow this patter, but so far, I haven't found any yet."
   ]
  },
  {
   "cell_type": "code",
   "execution_count": null,
   "id": "626bdf9b",
   "metadata": {},
   "outputs": [],
   "source": []
  },
  {
   "cell_type": "code",
   "execution_count": null,
   "id": "e881d28a",
   "metadata": {},
   "outputs": [],
   "source": []
  }
 ],
 "metadata": {
  "kernelspec": {
   "display_name": "Python 3 (ipykernel)",
   "language": "python",
   "name": "python3"
  },
  "language_info": {
   "codemirror_mode": {
    "name": "ipython",
    "version": 3
   },
   "file_extension": ".py",
   "mimetype": "text/x-python",
   "name": "python",
   "nbconvert_exporter": "python",
   "pygments_lexer": "ipython3",
   "version": "3.9.5"
  }
 },
 "nbformat": 4,
 "nbformat_minor": 5
}
