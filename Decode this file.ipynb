{
 "cells": [
  {
   "cell_type": "code",
   "execution_count": 1,
   "id": "799cadfe",
   "metadata": {},
   "outputs": [],
   "source": [
    "ad=r\"C:\\Users\\RubyErvin-Mclean\\Documents\\Python\\Back These Up\\ad.txt\""
   ]
  },
  {
   "cell_type": "code",
   "execution_count": 2,
   "id": "3f7610e0",
   "metadata": {},
   "outputs": [],
   "source": [
    "with open(ad, mode='r') as m:\n",
    "    mm=m.read()"
   ]
  },
  {
   "cell_type": "markdown",
   "id": "417052fa",
   "metadata": {},
   "source": [
    "The code below comes from this website: https://stackoverflow.com/questions/9475241/split-string-every-nth-character\n",
    "\n",
    "And from this person: https://stackoverflow.com/users/1081207/satomacoto"
   ]
  },
  {
   "cell_type": "code",
   "execution_count": 3,
   "id": "10842cbd",
   "metadata": {},
   "outputs": [],
   "source": [
    "line = mm\n",
    "n = 2\n",
    "split_message = [line[i:i+n] for i in range(0, len(line), n)]"
   ]
  },
  {
   "cell_type": "code",
   "execution_count": 4,
   "id": "f2970551",
   "metadata": {},
   "outputs": [
    {
     "data": {
      "text/plain": [
       "'Please like and subscribe on Youtube: https://www.youtube.com/channel/UCq70jaXNp2ft_4o9SzlwlnQ'"
      ]
     },
     "execution_count": 4,
     "metadata": {},
     "output_type": "execute_result"
    }
   ],
   "source": [
    "decoded_message=[]\n",
    "r=len(split_message)\n",
    "for i in range(r):\n",
    "    a=int(split_message[i], base=16)\n",
    "    aa=chr(a)\n",
    "    decoded_message.append(aa)\n",
    "''.join(decoded_message)"
   ]
  },
  {
   "cell_type": "code",
   "execution_count": null,
   "id": "e537ba43",
   "metadata": {},
   "outputs": [],
   "source": []
  }
 ],
 "metadata": {
  "kernelspec": {
   "display_name": "Python 3 (ipykernel)",
   "language": "python",
   "name": "python3"
  },
  "language_info": {
   "codemirror_mode": {
    "name": "ipython",
    "version": 3
   },
   "file_extension": ".py",
   "mimetype": "text/x-python",
   "name": "python",
   "nbconvert_exporter": "python",
   "pygments_lexer": "ipython3",
   "version": "3.9.7"
  }
 },
 "nbformat": 4,
 "nbformat_minor": 5
}
