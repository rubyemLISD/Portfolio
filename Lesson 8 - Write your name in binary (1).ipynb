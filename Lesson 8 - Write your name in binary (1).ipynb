{
 "cells": [
  {
   "cell_type": "markdown",
   "id": "b6bb3928",
   "metadata": {},
   "source": [
    "## Using ASCII\n",
    "Check out the following cells and try to understand how the new usage of \"byte strings\" (a string with a leading b) relates to ASCII characters. Useful functions here include `chr`, `ord`, and `bytes`."
   ]
  },
  {
   "cell_type": "code",
   "execution_count": 2,
   "id": "480bae01",
   "metadata": {},
   "outputs": [
    {
     "name": "stdout",
     "output_type": "stream",
     "text": [
      "b'John'\n"
     ]
    }
   ],
   "source": [
    "name=bytes('John', encoding='ascii') #bytes turns the name into binary, and ascii makes it so that it's written in ascii\n",
    "print(name) #the b str just tells you it is written in binary"
   ]
  },
  {
   "cell_type": "code",
   "execution_count": 3,
   "id": "81fba839",
   "metadata": {},
   "outputs": [
    {
     "data": {
      "text/plain": [
       "True"
      ]
     },
     "execution_count": 3,
     "metadata": {},
     "output_type": "execute_result"
    }
   ],
   "source": [
    "name1=b'John' #this is the same way to do the thing done above\n",
    "name==name1 #this checks to see if the are the same"
   ]
  },
  {
   "cell_type": "code",
   "execution_count": 4,
   "id": "e2a23df9",
   "metadata": {},
   "outputs": [
    {
     "data": {
      "text/plain": [
       "74"
      ]
     },
     "execution_count": 4,
     "metadata": {},
     "output_type": "execute_result"
    }
   ],
   "source": [
    "name[0] #this returns the decimal value of the first byte"
   ]
  },
  {
   "cell_type": "code",
   "execution_count": 6,
   "id": "61e1cf5f",
   "metadata": {},
   "outputs": [
    {
     "data": {
      "text/plain": [
       "74"
      ]
     },
     "execution_count": 6,
     "metadata": {},
     "output_type": "execute_result"
    }
   ],
   "source": [
    "b'J'[0] #this turns 'J' into binary and returns the decimal value of J\n"
   ]
  },
  {
   "cell_type": "code",
   "execution_count": 7,
   "id": "53641546",
   "metadata": {},
   "outputs": [
    {
     "data": {
      "text/plain": [
       "111"
      ]
     },
     "execution_count": 7,
     "metadata": {},
     "output_type": "execute_result"
    }
   ],
   "source": [
    "b'o'[0] #this turns 'o' into binary and returns the decimal value of o"
   ]
  },
  {
   "cell_type": "code",
   "execution_count": 8,
   "id": "23f11703",
   "metadata": {},
   "outputs": [
    {
     "data": {
      "text/plain": [
       "'o'"
      ]
     },
     "execution_count": 8,
     "metadata": {},
     "output_type": "execute_result"
    }
   ],
   "source": [
    "chr(111) #this takes the decimal value and returns the letter it is assigned to"
   ]
  },
  {
   "cell_type": "code",
   "execution_count": 12,
   "id": "82af80f2",
   "metadata": {},
   "outputs": [
    {
     "data": {
      "text/plain": [
       "111"
      ]
     },
     "execution_count": 12,
     "metadata": {},
     "output_type": "execute_result"
    }
   ],
   "source": [
    "ord('o') #this takes the letter and returns the decimal value it is assigned to"
   ]
  },
  {
   "cell_type": "code",
   "execution_count": 13,
   "id": "f9e1fb59",
   "metadata": {},
   "outputs": [
    {
     "name": "stdout",
     "output_type": "stream",
     "text": [
      "74\n",
      "111\n",
      "104\n",
      "110\n"
     ]
    }
   ],
   "source": [
    "for thing in name: #this just returns all of the decimal of name\n",
    "    print(thing)"
   ]
  },
  {
   "cell_type": "code",
   "execution_count": 14,
   "id": "22719c24",
   "metadata": {},
   "outputs": [
    {
     "data": {
      "text/plain": [
       "'0x4a'"
      ]
     },
     "execution_count": 14,
     "metadata": {},
     "output_type": "execute_result"
    }
   ],
   "source": [
    "hex(74) #this is the hex representation of J"
   ]
  },
  {
   "cell_type": "code",
   "execution_count": 16,
   "id": "3ce411e0",
   "metadata": {},
   "outputs": [
    {
     "data": {
      "text/plain": [
       "74"
      ]
     },
     "execution_count": 16,
     "metadata": {},
     "output_type": "execute_result"
    }
   ],
   "source": [
    "int('4a', base=16) #this takes hexadecimal, tells it that it is in base 16, and it turns it into base 10"
   ]
  },
  {
   "cell_type": "code",
   "execution_count": 17,
   "id": "550b70bf",
   "metadata": {},
   "outputs": [
    {
     "data": {
      "text/plain": [
       "'0b1001010'"
      ]
     },
     "execution_count": 17,
     "metadata": {},
     "output_type": "execute_result"
    }
   ],
   "source": [
    "bin(74) #this writes the decimal in binary"
   ]
  },
  {
   "cell_type": "code",
   "execution_count": 24,
   "id": "433c8d47",
   "metadata": {},
   "outputs": [
    {
     "data": {
      "text/plain": [
       "74"
      ]
     },
     "execution_count": 24,
     "metadata": {},
     "output_type": "execute_result"
    }
   ],
   "source": [
    "int('1001010', base=2) #this takes the binary, tells it it is written in base 2, and then turns it into decimal"
   ]
  },
  {
   "cell_type": "code",
   "execution_count": 26,
   "id": "25b44471",
   "metadata": {},
   "outputs": [
    {
     "name": "stdout",
     "output_type": "stream",
     "text": [
      "74 0x4a 0b1001010\n",
      "111 0x6f 0b1101111\n",
      "104 0x68 0b1101000\n",
      "110 0x6e 0b1101110\n"
     ]
    }
   ],
   "source": [
    "for val in name: #this returns the decimal value, the hex value, and the binary value of each letter in name\n",
    "    print(val, hex(val), bin(val)) "
   ]
  },
  {
   "cell_type": "code",
   "execution_count": 30,
   "id": "47981d4f",
   "metadata": {},
   "outputs": [
    {
     "data": {
      "text/plain": [
       "'01001010011011110110100001101110'"
      ]
     },
     "execution_count": 30,
     "metadata": {},
     "output_type": "execute_result"
    }
   ],
   "source": [
    "('0'+bin(name[0])[2:] #leading zero makes each value exactly 1 byte long (8 bits)!\n",
    "+'0'+bin(name[1])[2:] #this just returns the binary version of the variable name with the 0b that comes before\n",
    "+'0'+bin(name[2])[2:]\n",
    "+'0'+bin(name[3])[2:]) "
   ]
  },
  {
   "cell_type": "markdown",
   "id": "66c37755",
   "metadata": {},
   "source": [
    "https://www.binaryhexconverter.com/binary-to-ascii-text-converter"
   ]
  },
  {
   "cell_type": "code",
   "execution_count": 33,
   "id": "a397fc2f",
   "metadata": {},
   "outputs": [
    {
     "data": {
      "text/plain": [
       "'01010010011101010110001001111001'"
      ]
     },
     "execution_count": 33,
     "metadata": {},
     "output_type": "execute_result"
    }
   ],
   "source": [
    "name2=b'Ruby'\n",
    "('0'+bin(name2[0])[2:] #this is my name in binary!!!!\n",
    "+'0'+bin(name2[1])[2:]\n",
    "+'0'+bin(name2[2])[2:]\n",
    "+'0'+bin(name2[3])[2:])"
   ]
  },
  {
   "cell_type": "code",
   "execution_count": null,
   "id": "481aa308",
   "metadata": {},
   "outputs": [],
   "source": []
  }
 ],
 "metadata": {
  "kernelspec": {
   "display_name": "Python 3 (ipykernel)",
   "language": "python",
   "name": "python3"
  },
  "language_info": {
   "codemirror_mode": {
    "name": "ipython",
    "version": 3
   },
   "file_extension": ".py",
   "mimetype": "text/x-python",
   "name": "python",
   "nbconvert_exporter": "python",
   "pygments_lexer": "ipython3",
   "version": "3.9.7"
  }
 },
 "nbformat": 4,
 "nbformat_minor": 5
}
