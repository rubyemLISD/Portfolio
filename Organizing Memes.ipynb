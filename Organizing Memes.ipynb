{
 "cells": [
  {
   "cell_type": "code",
   "execution_count": 3,
   "id": "16a14610",
   "metadata": {},
   "outputs": [],
   "source": [
    "import os\n",
    "\n",
    "memes=os.listdir(r\"C:\\Users\\RubyErvin-Mclean\\Documents\\Memes\")\n",
    "\n",
    "for f in memes:\n",
    "    last_4=f[-4:]\n",
    "    if last_4=='.png':\n",
    "        path1=os.path.join(r\"C:\\Users\\RubyErvin-Mclean\\Documents\\Memes\", f)\n",
    "        path2=os.path.join(r\"C:\\Users\\RubyErvin-Mclean\\Documents\\Memes\\Screenshots\", f)\n",
    "        os.rename(path1, path2)\n",
    "    if last_4=='.gif':\n",
    "        path1=os.path.join(r\"C:\\Users\\RubyErvin-Mclean\\Documents\\Memes\", f)\n",
    "        path2=os.path.join(r\"C:\\Users\\RubyErvin-Mclean\\Documents\\Memes\\Homemade\", f)\n",
    "        os.rename(path1, path2)\n",
    "    if last_4=='jpeg':\n",
    "        path1=os.path.join(r\"C:\\Users\\RubyErvin-Mclean\\Documents\\Memes\", f)\n",
    "        path2=os.path.join(r\"C:\\Users\\RubyErvin-Mclean\\Documents\\Memes\\kym\", f)\n",
    "        os.rename(path1, path2)"
   ]
  },
  {
   "cell_type": "code",
   "execution_count": null,
   "id": "f2ca49ae",
   "metadata": {},
   "outputs": [],
   "source": []
  }
 ],
 "metadata": {
  "kernelspec": {
   "display_name": "Python 3 (ipykernel)",
   "language": "python",
   "name": "python3"
  },
  "language_info": {
   "codemirror_mode": {
    "name": "ipython",
    "version": 3
   },
   "file_extension": ".py",
   "mimetype": "text/x-python",
   "name": "python",
   "nbconvert_exporter": "python",
   "pygments_lexer": "ipython3",
   "version": "3.9.7"
  }
 },
 "nbformat": 4,
 "nbformat_minor": 5
}
